{
 "cells": [
  {
   "cell_type": "code",
   "execution_count": null,
   "metadata": {},
   "outputs": [],
   "source": [
    "/* References: \n",
    "- https://www.typescriptlang.org/\n",
    "*/\n",
    "\n",
    "// Typescript - TypeScript is a typed superset of JavaScript that compiles to plain JavaScript.\n",
    "\n",
    "/*\n",
    "TypeScript starts from the same syntax and semantics that millions of JavaScript developers know today. \n",
    "Use existing JavaScript code, incorporate popular JavaScript libraries, and call TypeScript code from JavaScript.\n",
    "\n",
    "TypeScript compiles to clean, simple JavaScript code which runs on any browser, in Node.js, \n",
    "or in any JavaScript engine that supports ECMAScript 3 (or newer).\n",
    "*/"
   ]
  },
  {
   "cell_type": "code",
   "execution_count": null,
   "metadata": {},
   "outputs": [],
   "source": [
    "// Basic Types - Boolean\n",
    "\n",
    "// The most basic datatype is the simple true/false value, which JavaScript and TypeScript call a boolean value.\n",
    "\n",
    "let isDone: boolean = true;\n",
    "console.log(isDone);"
   ]
  },
  {
   "cell_type": "code",
   "execution_count": null,
   "metadata": {},
   "outputs": [],
   "source": [
    "// Basic Types - Number\n",
    "\n",
    "// As in JavaScript, all numbers in TypeScript are floating point values. \n",
    "// These floating point numbers get the type number. \n",
    "// In addition to hexadecimal and decimal literals, TypeScript also supports binary and octal literals \n",
    "// introduced in ECMAScript 2015.\n",
    "\n",
    "let decimal: number = 6;\n",
    "let hex: number = 0xf00d;\n",
    "let binary: number = 0b1010;\n",
    "let octal: number = 0o744;\n",
    "\n",
    "console.log(decimal);\n",
    "console.log(hex);\n",
    "console.log(binary);\n",
    "console.log(octal);"
   ]
  },
  {
   "cell_type": "code",
   "execution_count": null,
   "metadata": {},
   "outputs": [],
   "source": [
    "// Basic Types - String\n",
    "\n",
    "let color: string = \"blue\";\n",
    "console.log(color);\n",
    "\n",
    "color = 'red';\n",
    "console.log(color);"
   ]
  },
  {
   "cell_type": "code",
   "execution_count": null,
   "metadata": {},
   "outputs": [],
   "source": [
    "// Basic Types - String\n",
    "\n",
    "let fullName: string = `Bob Bobbington`;\n",
    "let age: number = 37;\n",
    "let sentence: string = `Hello, my name is ${ fullName }.\n",
    "\n",
    "I'll be ${ age + 1 } years old next month.`;\n",
    "\n",
    "console.log(sentence);"
   ]
  },
  {
   "cell_type": "code",
   "execution_count": null,
   "metadata": {},
   "outputs": [],
   "source": [
    "// Basic Types - Array\n",
    "\n",
    "let list: number[] = [1, 2, 3];\n",
    "console.log(list);"
   ]
  },
  {
   "cell_type": "code",
   "execution_count": null,
   "metadata": {},
   "outputs": [],
   "source": [
    "// Basic Types - Array\n",
    "\n",
    "let listNumber: Array<number> = [1, 2, 3];\n",
    "console.log(listNumber);\n",
    "\n",
    "let listString: Array<string> = ['1', '2', '3'];\n",
    "console.log(listString);"
   ]
  },
  {
   "cell_type": "code",
   "execution_count": null,
   "metadata": {},
   "outputs": [],
   "source": [
    "// Basic Types - Tuple\n",
    "\n",
    "// Tuple types allow you to express an array with a fixed number of elements whose types are known,\n",
    "// but need not be the same. \n",
    "\n",
    "// Declare a tuple type - For example, you may want to represent a value as a pair of a string and a number:\n",
    "let x: [string, number];\n",
    "\n",
    "// Initialize Tuple correctly\n",
    "x = [\"hello\", 10]; // Correct"
   ]
  },
  {
   "cell_type": "code",
   "execution_count": null,
   "metadata": {},
   "outputs": [],
   "source": [
    "// Basic Types - Tuple\n",
    "\n",
    "let x: [string, number];\n",
    "\n",
    "// Initialize Tuple incorrectly\n",
    "x = [10, \"hello\"]; // This assignment leads to an error"
   ]
  },
  {
   "cell_type": "code",
   "execution_count": null,
   "metadata": {},
   "outputs": [],
   "source": [
    "// Basic Types - Tuple\n",
    "\n",
    "let x: [string, number];\n",
    "x = [\"hello\", 10];\n",
    "console.log(x[0].substring(1)); // Can access as x[0] is string\n",
    "console.log(x[1].substring(1)); // Cannot access as x[1] is number"
   ]
  },
  {
   "cell_type": "code",
   "execution_count": null,
   "metadata": {},
   "outputs": [],
   "source": [
    "// Basic Types - Tuple\n",
    "\n",
    "let x: [string, number];\n",
    "x = [\"hello\", 10];\n",
    "\n",
    "x[2] = \"world\"; // Cannot assign as defined tuple 'x' can have only two items"
   ]
  },
  {
   "cell_type": "code",
   "execution_count": null,
   "metadata": {},
   "outputs": [],
   "source": [
    "// Basic Types - Enum\n",
    "\n",
    "// Enum is a way of giving more friendly names to sets of numeric values.\n",
    "\n",
    "enum Color {Red, Green, Blue}\n",
    "let c: Color = Color.Green;\n",
    "console.log(c);\n",
    "console.log(Color[1]);"
   ]
  },
  {
   "cell_type": "code",
   "execution_count": null,
   "metadata": {},
   "outputs": [],
   "source": [
    "// Basic Types - Enum\n",
    "\n",
    "// By default, enums begin numbering their members starting at 0. \n",
    "// You can change this by manually setting the value of one of its members.\n",
    "\n",
    "enum Color {Red = 1, Green, Blue}\n",
    "let c: Color = Color.Red;\n",
    "\n",
    "console.log(c);\n",
    "console.log(Color[1]);"
   ]
  },
  {
   "cell_type": "code",
   "execution_count": null,
   "metadata": {},
   "outputs": [],
   "source": [
    "// Basic Types - Enum\n",
    "\n",
    "// We can set all values in the enum\n",
    "\n",
    "enum Color {Red = 1, Green = 2, Blue = 4}"
   ]
  },
  {
   "cell_type": "code",
   "execution_count": null,
   "metadata": {},
   "outputs": [],
   "source": [
    "// Basic Types - Any\n",
    "\n",
    "let notSure: any = 4;\n",
    "notSure = \"maybe a string instead\";\n",
    "notSure = false;\n",
    "\n",
    "// The any type is a powerful way to work with existing JavaScript, \n",
    "// allowing you to gradually opt-in and opt-out of type checking during compilation."
   ]
  },
  {
   "cell_type": "code",
   "execution_count": null,
   "metadata": {},
   "outputs": [],
   "source": [
    "// Basic Types - Any \n",
    "\n",
    "// 'Object' plays a similar role. \n",
    "// However, variables of type Object only allow you to assign any value to them. \n",
    "// You can’t call arbitrary methods on them, even ones that actually exist.\n",
    "\n",
    "let notSure: any = 4;\n",
    "notSure.ifItExists(); // okay, ifItExists might exist at runtime\n",
    "notSure.toFixed(); // okay, toFixed exists (but the compiler doesn't check)\n",
    "\n",
    "let prettySure: Object = 4;\n",
    "prettySure.toFixed(); // Error: Property 'toFixed' doesn't exist on type 'Object'."
   ]
  },
  {
   "cell_type": "code",
   "execution_count": null,
   "metadata": {},
   "outputs": [],
   "source": [
    "// TIP\n",
    "\n",
    "/* Don’t ever use the types Number, String, Boolean, Symbol, or Object. \n",
    "These types refer to non-primitive boxed objects that are almost never used appropriately in JavaScript code.\n",
    "*/\n",
    "\n",
    "/*\n",
    "Do use the types number, string, boolean, and symbol.\n",
    "Instead of Object, use the non-primitive object type.\n",
    "*/"
   ]
  },
  {
   "cell_type": "code",
   "execution_count": null,
   "metadata": {},
   "outputs": [],
   "source": [
    "// Basic Types - Void\n",
    "\n",
    "// Void - absence of having any type at all\n",
    "// Commonly 'void' used as return type of functions that do not return a value\n",
    "\n",
    "function warnUser(): void {\n",
    "    console.log(\"This is my warning message\");\n",
    "}\n",
    "\n",
    "warnUser();"
   ]
  },
  {
   "cell_type": "code",
   "execution_count": null,
   "metadata": {},
   "outputs": [],
   "source": [
    "// Basic Types - Void\n",
    "\n",
    "// Declaring variables of type void is not useful because \n",
    "// you can only assign null (only if --strictNullChecks is not specified) or undefined to them\n",
    "\n",
    "let unusable: void = undefined;\n",
    "unusable = null; // OK if `--strictNullChecks` is not given"
   ]
  },
  {
   "cell_type": "code",
   "execution_count": null,
   "metadata": {},
   "outputs": [],
   "source": [
    "// Basic Types - Null and Undefined\n",
    "\n",
    "// In TypeScript, both undefined and null actually have their own types named undefined and null respectively. \n",
    "// Much like void, they’re not extremely useful on their own.\n",
    "\n",
    "let u: undefined = undefined;\n",
    "let n: null = null;\n",
    "\n",
    "/*\n",
    "By default null and undefined are subtypes of all other types. \n",
    "That means you can assign null and undefined to something like number.\n",
    "\n",
    "However, when using the --strictNullChecks flag, null and undefined are only assignable to any \n",
    "and their respective types (the one exception being that undefined is also assignable to void).\n",
    "*/"
   ]
  },
  {
   "cell_type": "code",
   "execution_count": null,
   "metadata": {},
   "outputs": [],
   "source": [
    "// TIP\n",
    "\n",
    "// We encourage the use of --strictNullChecks when possible"
   ]
  },
  {
   "cell_type": "code",
   "execution_count": null,
   "metadata": {},
   "outputs": [],
   "source": [
    "// Basic Types - Never\n",
    "\n",
    "/*\n",
    "The never type represents the type of values that never occur. \n",
    "\n",
    "For instance, never is the return type for a function expression or \n",
    "an arrow function expression that always throws an exception or one that never returns; \n",
    "\n",
    "Variables also acquire the type never when narrowed by any type guards that can never be true.\n",
    "\n",
    "The never type is a subtype of, and assignable to, every type; \n",
    "however, no type is a subtype of, or assignable to, never (except never itself). \n",
    "Even any isn’t assignable to never.\n",
    "*/"
   ]
  },
  {
   "cell_type": "code",
   "execution_count": null,
   "metadata": {},
   "outputs": [],
   "source": [
    "// Basic Types - Object\n",
    "\n",
    "// object is a type that represents the non-primitive type, i.e. \n",
    "// anything that is not number, string, boolean, bigint, symbol, null, or undefined."
   ]
  },
  {
   "cell_type": "code",
   "execution_count": null,
   "metadata": {},
   "outputs": [],
   "source": [
    "// Type assertions\n",
    "\n",
    "/*\n",
    "Sometimes you’ll end up in a situation where you’ll know more about a value than TypeScript does. \n",
    "Usually this will happen when you know the type of some entity could be more specific than its current type.\n",
    "\n",
    "Type assertions are a way to tell the compiler “trust me, I know what I’m doing.” \n",
    "A type assertion is like a type cast in other languages, but performs no special checking or restructuring of data. \n",
    "It has no runtime impact, and is used purely by the compiler. \n",
    "TypeScript assumes that you, the programmer, have performed any special checks that you need.\n",
    "*/\n",
    "\n",
    "\n",
    "// Type assertions have two forms. One is the “angle-bracket” syntax:\n",
    "\n",
    "let someValue1: any = \"this is a string\";\n",
    "let strLength1: number = (<string>someValue1).length;\n",
    "\n",
    "// And the other is the as-syntax:\n",
    "\n",
    "let someValue2: any = \"this is a string\";\n",
    "let strLength2: number = (someValue2 as string).length;\n",
    "\n",
    "// The two samples are equivalent. Using one over the other is mostly a choice of preference; \n",
    "// however, when using TypeScript with JSX, only as-style assertions are allowed."
   ]
  },
  {
   "cell_type": "code",
   "execution_count": null,
   "metadata": {},
   "outputs": [],
   "source": [
    "// TIP - Use 'let' instead of 'var'\n",
    "\n",
    "/*\n",
    "The let keyword was introduced to JavaScript in ES2015 and \n",
    "is now considered the standard because it’s safer than var. \n",
    "\n",
    "Many common problems in JavaScript are alleviated by using let, \n",
    "so you should use it instead of var whenever possible.\n",
    "*/"
   ]
  },
  {
   "cell_type": "code",
   "execution_count": null,
   "metadata": {},
   "outputs": [],
   "source": []
  }
 ],
 "metadata": {
  "kernelspec": {
   "display_name": "TypeScript",
   "language": "typescript",
   "name": "tslab"
  },
  "language_info": {
   "codemirror_mode": {
    "mode": "typescript",
    "name": "javascript",
    "typescript": true
   },
   "file_extension": ".ts",
   "mimetype": "text/typescript",
   "name": "typescript",
   "version": "3.7.2"
  }
 },
 "nbformat": 4,
 "nbformat_minor": 2
}
